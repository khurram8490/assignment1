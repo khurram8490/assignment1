{
 "cells": [
  {
   "cell_type": "markdown",
   "id": "c627d52c",
   "metadata": {},
   "source": [
    "##question 1\n",
    "Single-Line Comments:\n",
    "Single-line comments begin with a hash character #.\n",
    "Everything after the # on the same line is considered a comment and is ignored by the Python interpreter\n",
    "Multi-Line or Block Comments:\n",
    "Python does not have a built-in syntax for multi-line comments like some other languages (e.g., C or Java).\n",
    "However, you can create multi-line comments using triple-quotes (''' or \"\"\") for strings. These strings are typically used as docstrings (documentation strings) for functions, modules, or classes"
   ]
  },
  {
   "cell_type": "code",
   "execution_count": 1,
   "id": "aff5b23d",
   "metadata": {},
   "outputs": [],
   "source": [
    "##question 2\n",
    "##variables are used to store and manipulate data. A variable is essentially a name that refers to a value in memory. These values can be of various types, including numbers, strings, lists, and more. Variables allow you to work with data and perform operations on it in your Python programs\n",
    "my_variable = 42\n",
    "age = 23\n",
    "hight = 5.5\n"
   ]
  },
  {
   "cell_type": "code",
   "execution_count": 2,
   "id": "e5575b53",
   "metadata": {},
   "outputs": [],
   "source": [
    "##question 3\n",
    "##ython provides built-in functions and constructors for performing these conversions. Here are some common ways to convert data types\n",
    "tr_to_int = int(\"42\") \n",
    "str_to_float = float(\"3.14\")\n"
   ]
  },
  {
   "cell_type": "code",
   "execution_count": 3,
   "id": "1decf259",
   "metadata": {},
   "outputs": [],
   "source": [
    "##question 4\n",
    "##Using a text editor or an integrated development environment (IDE), create a new Python script file with a .py extension. For example, you can create a file named myscript.py\n"
   ]
  },
  {
   "cell_type": "code",
   "execution_count": 4,
   "id": "b9a25d82",
   "metadata": {},
   "outputs": [
    {
     "name": "stdout",
     "output_type": "stream",
     "text": [
      "[2, 3]\n"
     ]
    }
   ],
   "source": [
    "##question 5\n",
    "my_list = [1, 2, 3, 4, 5]\n",
    "sub_list = my_list[1:3]\n",
    "print(sub_list)\n"
   ]
  },
  {
   "cell_type": "code",
   "execution_count": 5,
   "id": "19ecdbfb",
   "metadata": {},
   "outputs": [],
   "source": [
    "##question 6\n",
    "z1 = complex(3, 4)  # Represents 3 + 4i\n",
    "z2 = complex(0, -1)"
   ]
  },
  {
   "cell_type": "code",
   "execution_count": 6,
   "id": "2b755557",
   "metadata": {},
   "outputs": [],
   "source": [
    "## question 7\n",
    "age = 25"
   ]
  },
  {
   "cell_type": "code",
   "execution_count": 7,
   "id": "fb269950",
   "metadata": {},
   "outputs": [
    {
     "data": {
      "text/plain": [
       "float"
      ]
     },
     "execution_count": 7,
     "metadata": {},
     "output_type": "execute_result"
    }
   ],
   "source": [
    "##question 8\n",
    "price = 9.99\n",
    "type(price) ##float\n"
   ]
  },
  {
   "cell_type": "code",
   "execution_count": 8,
   "id": "5d1708be",
   "metadata": {},
   "outputs": [
    {
     "name": "stdout",
     "output_type": "stream",
     "text": [
      "MOHD KHURRAM\n"
     ]
    }
   ],
   "source": [
    "##question 9\n",
    "name = \"MOHD KHURRAM\"\n",
    "print(name)"
   ]
  },
  {
   "cell_type": "code",
   "execution_count": 13,
   "id": "5c147791",
   "metadata": {},
   "outputs": [
    {
     "name": "stdout",
     "output_type": "stream",
     "text": [
      "World\n"
     ]
    }
   ],
   "source": [
    "##question 10\n",
    "string_1 = \"Hello World\"\n",
    "print(string_1[6:12])"
   ]
  },
  {
   "cell_type": "code",
   "execution_count": null,
   "id": "ec24546c",
   "metadata": {},
   "outputs": [],
   "source": [
    "##question 11\n",
    "is_student = True\n",
    "##if it become false then student is currently not a student "
   ]
  }
 ],
 "metadata": {
  "kernelspec": {
   "display_name": "Python 3 (ipykernel)",
   "language": "python",
   "name": "python3"
  },
  "language_info": {
   "codemirror_mode": {
    "name": "ipython",
    "version": 3
   },
   "file_extension": ".py",
   "mimetype": "text/x-python",
   "name": "python",
   "nbconvert_exporter": "python",
   "pygments_lexer": "ipython3",
   "version": "3.9.13"
  }
 },
 "nbformat": 4,
 "nbformat_minor": 5
}

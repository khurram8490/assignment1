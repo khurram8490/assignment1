{
 "cells": [
  {
   "cell_type": "code",
   "execution_count": 1,
   "id": "1cc15e1a",
   "metadata": {},
   "outputs": [],
   "source": [
    "# question 1\n",
    "my_string = \"Hello, World!\"\n",
    "my_list = [1, 2, 3, 4, 5]\n",
    "my_float = 3.14159\n",
    "my_tuple = (10, 20, 30)\n"
   ]
  },
  {
   "cell_type": "code",
   "execution_count": 2,
   "id": "91f3cdeb",
   "metadata": {},
   "outputs": [],
   "source": [
    "#question 2\n",
    "var1 = ' '\n",
    "var2 = '[ DS , ML , Python]'\n",
    "var3 = ['DS', 'ML', 'Python']\n",
    "var4 = 1\n"
   ]
  },
  {
   "cell_type": "code",
   "execution_count": null,
   "id": "a15d81b2",
   "metadata": {},
   "outputs": [],
   "source": [
    "#question 3\n",
    "##/ Operator (Division Operator):\n",
    "##The / operator is used for division. It divides the left operand by the right operand and returns the quotient as a result\n",
    "##The % operator is used for the modulus operation. It divides the left operand by the right operand and returns the remainder as a result.\n",
    "##The // operator is used for floor division. It divides the left operand by the right operand and returns the quotient, rounded down to the nearest integer\n",
    "##The ** operator is used for exponentiation. It raises the left operand to the power of the right operand.\n",
    "\n",
    "a = 10\n",
    "b = 2\n",
    "result = a / b\n",
    "\n",
    "a = 10\n",
    "b = 3\n",
    "result = a % b\n",
    "\n",
    "\n",
    "a = 10\n",
    "b = 3\n",
    "result = a // b\n",
    "\n",
    "a = 2\n",
    "b = 3\n",
    "result = a ** b\n",
    "\n"
   ]
  },
  {
   "cell_type": "code",
   "execution_count": 4,
   "id": "19e6e096",
   "metadata": {},
   "outputs": [
    {
     "name": "stdout",
     "output_type": "stream",
     "text": [
      "Element: 1, Data Type: <class 'int'>\n",
      "Element: Hello, Data Type: <class 'str'>\n",
      "Element: 3.14, Data Type: <class 'float'>\n",
      "Element: True, Data Type: <class 'bool'>\n",
      "Element: [1, 2, 3], Data Type: <class 'list'>\n",
      "Element: {'name': 'John', 'age': 30}, Data Type: <class 'dict'>\n",
      "Element: None, Data Type: <class 'NoneType'>\n",
      "Element: (4, 5), Data Type: <class 'tuple'>\n",
      "Element: World, Data Type: <class 'str'>\n",
      "Element: False, Data Type: <class 'bool'>\n"
     ]
    }
   ],
   "source": [
    "##question 4\n",
    "my_list = [1, \"Hello\", 3.14, True, [1, 2, 3], {\"name\": \"John\", \"age\": 30}, None, (4, 5), \"World\", False]\n",
    "\n",
    "for item in my_list:\n",
    "    print(f\"Element: {item}, Data Type: {type(item)}\")\n",
    "\n",
    "\n",
    "\n",
    "\n",
    "\n",
    "\n"
   ]
  },
  {
   "cell_type": "code",
   "execution_count": 5,
   "id": "01124ff0",
   "metadata": {},
   "outputs": [
    {
     "name": "stdout",
     "output_type": "stream",
     "text": [
      "Enter the dividend (A): 2\n",
      "Enter the divisor (B): 3\n",
      "Not purely divisible.\n"
     ]
    }
   ],
   "source": [
    "##question 5\n",
    "\n",
    "A = int(input(\"Enter the dividend (A): \"))\n",
    "B = int(input(\"Enter the divisor (B): \"))\n",
    "\n",
    "count = 0\n",
    "while A % B == 0:\n",
    "    A = A // B  \n",
    "    count += 1  \n",
    "if A == 1:\n",
    "    print(f\"{count} times divisible.\")\n",
    "else:\n",
    "    print(\"Not purely divisible.\")\n",
    "\n"
   ]
  },
  {
   "cell_type": "code",
   "execution_count": 6,
   "id": "37efb019",
   "metadata": {},
   "outputs": [
    {
     "name": "stdout",
     "output_type": "stream",
     "text": [
      "1 is not divisible by 3\n",
      "3 is divisible by 3\n",
      "6 is divisible by 3\n",
      "9 is divisible by 3\n",
      "12 is divisible by 3\n",
      "15 is divisible by 3\n",
      "18 is divisible by 3\n",
      "21 is divisible by 3\n",
      "24 is divisible by 3\n",
      "27 is divisible by 3\n",
      "2 is not divisible by 3\n",
      "5 is not divisible by 3\n",
      "8 is not divisible by 3\n",
      "11 is not divisible by 3\n",
      "14 is not divisible by 3\n",
      "17 is not divisible by 3\n",
      "20 is not divisible by 3\n",
      "23 is not divisible by 3\n",
      "26 is not divisible by 3\n",
      "29 is not divisible by 3\n",
      "4 is not divisible by 3\n",
      "7 is not divisible by 3\n",
      "10 is not divisible by 3\n",
      "13 is not divisible by 3\n",
      "16 is not divisible by 3\n"
     ]
    }
   ],
   "source": [
    "##question 6\n",
    "my_list = [1, 3, 6, 9, 12, 15, 18, 21, 24, 27, 2, 5, 8, 11, 14, 17, 20, 23, 26, 29, 4, 7, 10, 13, 16]\n",
    "for num in my_list:\n",
    "    if num % 3 == 0:\n",
    "        print(f\"{num} is divisible by 3\")\n",
    "    else:\n",
    "        print(f\"{num} is not divisible by 3\")\n"
   ]
  },
  {
   "cell_type": "code",
   "execution_count": null,
   "id": "dd02b39a",
   "metadata": {},
   "outputs": [],
   "source": [
    "##question 7\n",
    "##Immutable data types cannot be modified once they are created. If you want to change their value, you need to create a new object\n",
    "##Mutable data types can be modified after they are created. Changes to the object directly affect the object in memory\n",
    "##example:\n",
    "name = \"aman\"\n",
    "greeting = \"Hello, \" + name\n",
    "name = \"Amit \"  \n",
    "print(greeting)\n",
    "\n",
    "##example 2\n",
    "my_list = [1, 2, 3]\n",
    "my_list.append(4)  \n",
    "print(my_list)"
   ]
  }
 ],
 "metadata": {
  "kernelspec": {
   "display_name": "Python 3 (ipykernel)",
   "language": "python",
   "name": "python3"
  },
  "language_info": {
   "codemirror_mode": {
    "name": "ipython",
    "version": 3
   },
   "file_extension": ".py",
   "mimetype": "text/x-python",
   "name": "python",
   "nbconvert_exporter": "python",
   "pygments_lexer": "ipython3",
   "version": "3.9.13"
  }
 },
 "nbformat": 4,
 "nbformat_minor": 5
}
